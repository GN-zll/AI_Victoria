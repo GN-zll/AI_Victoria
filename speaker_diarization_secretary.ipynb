{
 "cells": [
  {
   "cell_type": "code",
   "execution_count": null,
   "id": "af322635-1f02-4a8b-b75b-265024b124e9",
   "metadata": {},
   "outputs": [],
   "source": [
    "import librosa\n",
    "import numpy as np\n",
    "from sklearn.preprocessing import StandardScaler\n",
    "from sklearn.cluster import KMeans"
   ]
  },
  {
   "cell_type": "code",
   "execution_count": null,
   "id": "db801b5b-4a90-451d-9cfd-47250e5650bf",
   "metadata": {},
   "outputs": [],
   "source": [
    "%pip install nemo_toolkit"
   ]
  },
  {
   "cell_type": "code",
   "execution_count": null,
   "id": "4737536d-8024-451b-ae7e-901e65492109",
   "metadata": {},
   "outputs": [],
   "source": [
    "%pip install wget"
   ]
  },
  {
   "cell_type": "code",
   "execution_count": null,
   "id": "18b2bf11-a31d-4ee5-b77c-288ef5d36db2",
   "metadata": {},
   "outputs": [],
   "source": [
    "from nemo.collections.asr.models import ClusteringDiarizer"
   ]
  },
  {
   "cell_type": "code",
   "execution_count": null,
   "id": "ee9573ee-201a-4cc5-b294-18c495002740",
   "metadata": {},
   "outputs": [],
   "source": [
    "from omegaconf import OmegaConf"
   ]
  },
  {
   "cell_type": "code",
   "execution_count": null,
   "id": "c9a5852e-cab6-4809-875e-6447c17ab3c8",
   "metadata": {},
   "outputs": [],
   "source": [
    "import json\n",
    "import os\n",
    "import librosa\n",
    "import wget"
   ]
  },
  {
   "cell_type": "code",
   "execution_count": null,
   "id": "2bd7cffe-9d80-4fdd-ab71-05687c9508df",
   "metadata": {},
   "outputs": [],
   "source": [
    "from librosa import core\n",
    "from pathlib import Path"
   ]
  },
  {
   "cell_type": "code",
   "execution_count": null,
   "id": "bb3b00dd-14d7-4c92-94e3-7dc81ef4edf7",
   "metadata": {},
   "outputs": [],
   "source": []
  },
  {
   "cell_type": "code",
   "execution_count": null,
   "id": "96ae7dec-e9f1-4393-a08d-ec148859f078",
   "metadata": {},
   "outputs": [],
   "source": [
    "def parse_nemo_output(path: str):\n",
    "    results = Path(path).read_text()\n",
    "    lines = results.splitlines()\n",
    "    lines = [line.strip() for line in lines if len(line.strip()) > 1]\n",
    "    \n",
    "    ret = []\n",
    "    for line in lines:\n",
    "        _, _, _, t0, duration, _, _, ID, *_ = line.split()\n",
    "        t0, duration = float(t0), float(duration)\n",
    "        seg = {\"speaker\": ID.capitalize(), \"start\": t0, \"end\": t0 + duration}\n",
    "        ret.append(seg)\n",
    "    return ret\n",
    "\n",
    "# Основная функция для извлечения спикеров\n",
    "def extract_speakers(path: str, combine: bool = True) -> list:\n",
    "    # Патч для багов в Librosa (многоканальный аудио)\n",
    "    old_resample = core.resample\n",
    "    def resample(y, *args, **kwargs):\n",
    "        if y.ndim == 2:\n",
    "            y = y.mean(axis=1)\n",
    "        return old_resample(y, *args, **kwargs)\n",
    "    core.resample = resample\n",
    "\n",
    "    # Метаинформация для манифеста\n",
    "    meta = {\n",
    "        \"audio_filepath\": path,\n",
    "        \"duration\": None,\n",
    "        \"label\": \"infer\",\n",
    "        \"text\": \"-\",\n",
    "        \"rttm_filepath\": None,\n",
    "        \"uem_filepath\": None,\n",
    "    }\n",
    "\n",
    "    # Создание манифеста\n",
    "    manifest = Path(path).parent / \"manifest.json\"\n",
    "    manifest.write_text(json.dumps(meta) + \"\\n\")\n",
    "\n",
    "    # Путь для вывода\n",
    "    output_dir = Path(path).parent / \"nemo-output\"\n",
    "    output_dir.mkdir(exist_ok=True)\n",
    "\n",
    "    # Загрузка конфигурации\n",
    "    config_url = \"https://raw.githubusercontent.com/NVIDIA/NeMo/main/examples/speaker_tasks/diarization/conf/inference/diar_infer_general.yaml\"\n",
    "    MODEL_CONFIG = wget.download(config_url, str(output_dir))\n",
    "    config = OmegaConf.load(MODEL_CONFIG)\n",
    "\n",
    "    # Настройка конфигурации\n",
    "    pretrained_vad = \"vad_multilingual_marblenet\"\n",
    "    pretrained_speaker_model = \"titanet_large\"\n",
    "\n",
    "    config.num_workers = 1\n",
    "    config.diarizer.manifest_filepath = str(manifest)\n",
    "    config.diarizer.out_dir = output_dir\n",
    "\n",
    "    config.diarizer.speaker_embeddings.model_path = pretrained_speaker_model\n",
    "    config.diarizer.speaker_embeddings.parameters.window_length_in_sec = [1.5, 1.25, 1.0, 0.75, 0.5]\n",
    "    config.diarizer.speaker_embeddings.parameters.shift_length_in_sec = [0.75, 0.625, 0.5, 0.375, 0.1]\n",
    "    config.diarizer.speaker_embeddings.parameters.multiscale_weights = [1, 1, 1, 1, 1]\n",
    "    config.diarizer.oracle_vad = False\n",
    "    config.diarizer.clustering.parameters.oracle_num_speakers = False\n",
    "\n",
    "    # Используем NeMo VAD\n",
    "    config.diarizer.vad.model_path = pretrained_vad\n",
    "    config.diarizer.vad.parameters.onset = 0.8\n",
    "    config.diarizer.vad.parameters.offset = 0.6\n",
    "    config.diarizer.vad.parameters.pad_offset = -0.05\n",
    "\n",
    "    # Запуск диаризации\n",
    "    sd_model = ClusteringDiarizer(cfg=config)\n",
    "    sd_model.diarize()\n",
    "\n",
    "    # Парсинг результатов из RTTM\n",
    "    rttm = output_dir / \"pred_rttms\" / Path(path).with_suffix(\".rttm\").name\n",
    "    parsed = parse_nemo_output(str(rttm))\n",
    "\n",
    "    return parsed"
   ]
  },
  {
   "cell_type": "code",
   "execution_count": null,
   "id": "57d00aaf-c718-4340-a1ea-ad5c005b37e6",
   "metadata": {},
   "outputs": [],
   "source": [
    "path = '/home/jupyter/datasphere/project/rodion_dir/test_dir/case_5_2.wav'"
   ]
  },
  {
   "cell_type": "code",
   "execution_count": null,
   "id": "8408cc29-6954-486f-9552-de22fcb201ad",
   "metadata": {},
   "outputs": [],
   "source": [
    "result = extract_speakers(path)"
   ]
  },
  {
   "cell_type": "code",
   "execution_count": null,
   "id": "e59364b7-1304-4084-8b12-b8b5d2ef4fb8",
   "metadata": {},
   "outputs": [],
   "source": []
  },
  {
   "cell_type": "code",
   "execution_count": null,
   "id": "763dd492-245f-4bdf-a8bb-1e9a4f9064b3",
   "metadata": {},
   "outputs": [],
   "source": []
  }
 ],
 "metadata": {
  "kernelspec": {
   "display_name": "Python 3 (ipykernel)",
   "language": "python",
   "name": "python3"
  },
  "language_info": {
   "codemirror_mode": {
    "name": "ipython",
    "version": 3
   },
   "file_extension": ".py",
   "mimetype": "text/x-python",
   "name": "python",
   "nbconvert_exporter": "python",
   "pygments_lexer": "ipython3",
   "version": "3.11.5"
  }
 },
 "nbformat": 4,
 "nbformat_minor": 5
}
